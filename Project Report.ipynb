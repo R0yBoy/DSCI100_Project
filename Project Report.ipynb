{
 "cells": [
  {
   "cell_type": "markdown",
   "metadata": {},
   "source": [
    "# Study time of subject vs. of prerequisites: which one has a greater impact on exam performance?\n",
    "## Introduction\n",
    "The modeling of relative knowledge levels for students within different domains is essential for web-based adaptive learning services. Adaptive learning is a system where teaching is built around the student, adjusting itself based on the needs of students to provide an efficient learning experience. This is done through the use of AI, the AI uses different variables to decide the knowledge level of the student and helps them determine their most efficient learning schedule. This poses the question, **can we use the degree of study time of both the goal object and its prerequisites to predict whether a student will score an A on a goal object exam?** To answer this question, we will be utilizing the “User Knowledge Modeling” dataset created by Hamdi Tolga Kahraman et al. This dataset uses 5 variables, STG, the degree of study time for goal object materials, SCG, The degree of repetition number of user for goal object materials, STR, The degree of study time of user for related objects with goal object, LPR, The exam performance of user for related objects with goal object, and PEG, The exam performance of user for goal objects to calculate the UNS, or the knowledge level of the user.\n",
    "## Preliminary exploratory data analysis"
   ]
  },
  {
   "cell_type": "code",
   "execution_count": 1,
   "metadata": {},
   "outputs": [
    {
     "name": "stderr",
     "output_type": "stream",
     "text": [
      "── \u001b[1mAttaching packages\u001b[22m ─────────────────────────────────────── tidyverse 1.3.0 ──\n",
      "\n",
      "\u001b[32m✔\u001b[39m \u001b[34mggplot2\u001b[39m 3.3.2     \u001b[32m✔\u001b[39m \u001b[34mpurrr  \u001b[39m 0.3.4\n",
      "\u001b[32m✔\u001b[39m \u001b[34mtibble \u001b[39m 3.0.3     \u001b[32m✔\u001b[39m \u001b[34mdplyr  \u001b[39m 1.0.2\n",
      "\u001b[32m✔\u001b[39m \u001b[34mtidyr  \u001b[39m 1.1.2     \u001b[32m✔\u001b[39m \u001b[34mstringr\u001b[39m 1.4.0\n",
      "\u001b[32m✔\u001b[39m \u001b[34mreadr  \u001b[39m 1.3.1     \u001b[32m✔\u001b[39m \u001b[34mforcats\u001b[39m 0.5.0\n",
      "\n",
      "Warning message:\n",
      "“package ‘ggplot2’ was built under R version 4.0.1”\n",
      "Warning message:\n",
      "“package ‘tibble’ was built under R version 4.0.2”\n",
      "Warning message:\n",
      "“package ‘tidyr’ was built under R version 4.0.2”\n",
      "Warning message:\n",
      "“package ‘dplyr’ was built under R version 4.0.2”\n",
      "── \u001b[1mConflicts\u001b[22m ────────────────────────────────────────── tidyverse_conflicts() ──\n",
      "\u001b[31m✖\u001b[39m \u001b[34mdplyr\u001b[39m::\u001b[32mfilter()\u001b[39m masks \u001b[34mstats\u001b[39m::filter()\n",
      "\u001b[31m✖\u001b[39m \u001b[34mdplyr\u001b[39m::\u001b[32mlag()\u001b[39m    masks \u001b[34mstats\u001b[39m::lag()\n",
      "\n",
      "Warning message:\n",
      "“package ‘rvest’ was built under R version 4.0.2”\n",
      "Loading required package: xml2\n",
      "\n",
      "\n",
      "Attaching package: ‘rvest’\n",
      "\n",
      "\n",
      "The following object is masked from ‘package:purrr’:\n",
      "\n",
      "    pluck\n",
      "\n",
      "\n",
      "The following object is masked from ‘package:readr’:\n",
      "\n",
      "    guess_encoding\n",
      "\n",
      "\n",
      "Warning message:\n",
      "“package ‘tidymodels’ was built under R version 4.0.2”\n",
      "── \u001b[1mAttaching packages\u001b[22m ────────────────────────────────────── tidymodels 0.1.1 ──\n",
      "\n",
      "\u001b[32m✔\u001b[39m \u001b[34mbroom    \u001b[39m 0.7.0      \u001b[32m✔\u001b[39m \u001b[34mrecipes  \u001b[39m 0.1.13\n",
      "\u001b[32m✔\u001b[39m \u001b[34mdials    \u001b[39m 0.0.9      \u001b[32m✔\u001b[39m \u001b[34mrsample  \u001b[39m 0.0.7 \n",
      "\u001b[32m✔\u001b[39m \u001b[34minfer    \u001b[39m 0.5.4      \u001b[32m✔\u001b[39m \u001b[34mtune     \u001b[39m 0.1.1 \n",
      "\u001b[32m✔\u001b[39m \u001b[34mmodeldata\u001b[39m 0.0.2      \u001b[32m✔\u001b[39m \u001b[34mworkflows\u001b[39m 0.2.0 \n",
      "\u001b[32m✔\u001b[39m \u001b[34mparsnip  \u001b[39m 0.1.3      \u001b[32m✔\u001b[39m \u001b[34myardstick\u001b[39m 0.0.7 \n",
      "\n",
      "Warning message:\n",
      "“package ‘broom’ was built under R version 4.0.2”\n",
      "Warning message:\n",
      "“package ‘dials’ was built under R version 4.0.2”\n",
      "Warning message:\n",
      "“package ‘infer’ was built under R version 4.0.3”\n",
      "Warning message:\n",
      "“package ‘modeldata’ was built under R version 4.0.1”\n",
      "Warning message:\n",
      "“package ‘parsnip’ was built under R version 4.0.2”\n",
      "Warning message:\n",
      "“package ‘recipes’ was built under R version 4.0.1”\n",
      "Warning message:\n",
      "“package ‘tune’ was built under R version 4.0.2”\n",
      "Warning message:\n",
      "“package ‘workflows’ was built under R version 4.0.2”\n",
      "Warning message:\n",
      "“package ‘yardstick’ was built under R version 4.0.2”\n",
      "── \u001b[1mConflicts\u001b[22m ───────────────────────────────────────── tidymodels_conflicts() ──\n",
      "\u001b[31m✖\u001b[39m \u001b[34mscales\u001b[39m::\u001b[32mdiscard()\u001b[39m masks \u001b[34mpurrr\u001b[39m::discard()\n",
      "\u001b[31m✖\u001b[39m \u001b[34mdplyr\u001b[39m::\u001b[32mfilter()\u001b[39m   masks \u001b[34mstats\u001b[39m::filter()\n",
      "\u001b[31m✖\u001b[39m \u001b[34mrecipes\u001b[39m::\u001b[32mfixed()\u001b[39m  masks \u001b[34mstringr\u001b[39m::fixed()\n",
      "\u001b[31m✖\u001b[39m \u001b[34mdplyr\u001b[39m::\u001b[32mlag()\u001b[39m      masks \u001b[34mstats\u001b[39m::lag()\n",
      "\u001b[31m✖\u001b[39m \u001b[34mrvest\u001b[39m::\u001b[32mpluck()\u001b[39m    masks \u001b[34mpurrr\u001b[39m::pluck()\n",
      "\u001b[31m✖\u001b[39m \u001b[34myardstick\u001b[39m::\u001b[32mspec()\u001b[39m masks \u001b[34mreadr\u001b[39m::spec()\n",
      "\u001b[31m✖\u001b[39m \u001b[34mrecipes\u001b[39m::\u001b[32mstep()\u001b[39m   masks \u001b[34mstats\u001b[39m::step()\n",
      "\n"
     ]
    }
   ],
   "source": [
    "# Install libraries shown\n",
    "library(tidyverse)\n",
    "library(repr)\n",
    "library(rvest)\n",
    "library(readxl)\n",
    "library(tidymodels)\n",
    "library(RColorBrewer)\n",
    "options(repr.matrix.max.rows = 6)"
   ]
  },
  {
   "cell_type": "markdown",
   "metadata": {},
   "source": [
    "#### *Reading in file*"
   ]
  },
  {
   "cell_type": "code",
   "execution_count": 2,
   "metadata": {},
   "outputs": [
    {
     "data": {
      "text/html": [
       "<table>\n",
       "<caption>A tibble: 6 × 6</caption>\n",
       "<thead>\n",
       "\t<tr><th scope=col>STG</th><th scope=col>SCG</th><th scope=col>STR</th><th scope=col>LPR</th><th scope=col>PEG</th><th scope=col>UNS</th></tr>\n",
       "\t<tr><th scope=col>&lt;dbl&gt;</th><th scope=col>&lt;dbl&gt;</th><th scope=col>&lt;dbl&gt;</th><th scope=col>&lt;dbl&gt;</th><th scope=col>&lt;dbl&gt;</th><th scope=col>&lt;chr&gt;</th></tr>\n",
       "</thead>\n",
       "<tbody>\n",
       "\t<tr><td>0.00</td><td>0.00</td><td>0.00</td><td>0.00</td><td>0.00</td><td>very_low</td></tr>\n",
       "\t<tr><td>0.08</td><td>0.08</td><td>0.10</td><td>0.24</td><td>0.90</td><td>High    </td></tr>\n",
       "\t<tr><td>0.06</td><td>0.06</td><td>0.05</td><td>0.25</td><td>0.33</td><td>Low     </td></tr>\n",
       "\t<tr><td>0.10</td><td>0.10</td><td>0.15</td><td>0.65</td><td>0.30</td><td>Middle  </td></tr>\n",
       "\t<tr><td>0.08</td><td>0.08</td><td>0.08</td><td>0.98</td><td>0.24</td><td>Low     </td></tr>\n",
       "\t<tr><td>0.09</td><td>0.15</td><td>0.40</td><td>0.10</td><td>0.66</td><td>Middle  </td></tr>\n",
       "</tbody>\n",
       "</table>\n"
      ],
      "text/latex": [
       "A tibble: 6 × 6\n",
       "\\begin{tabular}{llllll}\n",
       " STG & SCG & STR & LPR & PEG & UNS\\\\\n",
       " <dbl> & <dbl> & <dbl> & <dbl> & <dbl> & <chr>\\\\\n",
       "\\hline\n",
       "\t 0.00 & 0.00 & 0.00 & 0.00 & 0.00 & very\\_low\\\\\n",
       "\t 0.08 & 0.08 & 0.10 & 0.24 & 0.90 & High    \\\\\n",
       "\t 0.06 & 0.06 & 0.05 & 0.25 & 0.33 & Low     \\\\\n",
       "\t 0.10 & 0.10 & 0.15 & 0.65 & 0.30 & Middle  \\\\\n",
       "\t 0.08 & 0.08 & 0.08 & 0.98 & 0.24 & Low     \\\\\n",
       "\t 0.09 & 0.15 & 0.40 & 0.10 & 0.66 & Middle  \\\\\n",
       "\\end{tabular}\n"
      ],
      "text/markdown": [
       "\n",
       "A tibble: 6 × 6\n",
       "\n",
       "| STG &lt;dbl&gt; | SCG &lt;dbl&gt; | STR &lt;dbl&gt; | LPR &lt;dbl&gt; | PEG &lt;dbl&gt; | UNS &lt;chr&gt; |\n",
       "|---|---|---|---|---|---|\n",
       "| 0.00 | 0.00 | 0.00 | 0.00 | 0.00 | very_low |\n",
       "| 0.08 | 0.08 | 0.10 | 0.24 | 0.90 | High     |\n",
       "| 0.06 | 0.06 | 0.05 | 0.25 | 0.33 | Low      |\n",
       "| 0.10 | 0.10 | 0.15 | 0.65 | 0.30 | Middle   |\n",
       "| 0.08 | 0.08 | 0.08 | 0.98 | 0.24 | Low      |\n",
       "| 0.09 | 0.15 | 0.40 | 0.10 | 0.66 | Middle   |\n",
       "\n"
      ],
      "text/plain": [
       "  STG  SCG  STR  LPR  PEG  UNS     \n",
       "1 0.00 0.00 0.00 0.00 0.00 very_low\n",
       "2 0.08 0.08 0.10 0.24 0.90 High    \n",
       "3 0.06 0.06 0.05 0.25 0.33 Low     \n",
       "4 0.10 0.10 0.15 0.65 0.30 Middle  \n",
       "5 0.08 0.08 0.08 0.98 0.24 Low     \n",
       "6 0.09 0.15 0.40 0.10 0.66 Middle  "
      ]
     },
     "metadata": {},
     "output_type": "display_data"
    },
    {
     "data": {
      "text/html": [
       "<table>\n",
       "<caption>A tibble: 6 × 6</caption>\n",
       "<thead>\n",
       "\t<tr><th scope=col>STG</th><th scope=col>SCG</th><th scope=col>STR</th><th scope=col>LPR</th><th scope=col>PEG</th><th scope=col>UNS</th></tr>\n",
       "\t<tr><th scope=col>&lt;dbl&gt;</th><th scope=col>&lt;dbl&gt;</th><th scope=col>&lt;dbl&gt;</th><th scope=col>&lt;dbl&gt;</th><th scope=col>&lt;dbl&gt;</th><th scope=col>&lt;chr&gt;</th></tr>\n",
       "</thead>\n",
       "<tbody>\n",
       "\t<tr><td>0.00</td><td>0.10</td><td>0.50</td><td>0.26</td><td>0.05</td><td>Very Low</td></tr>\n",
       "\t<tr><td>0.05</td><td>0.05</td><td>0.55</td><td>0.60</td><td>0.14</td><td>Low     </td></tr>\n",
       "\t<tr><td>0.08</td><td>0.18</td><td>0.63</td><td>0.60</td><td>0.85</td><td>High    </td></tr>\n",
       "\t<tr><td>0.20</td><td>0.20</td><td>0.68</td><td>0.67</td><td>0.85</td><td>High    </td></tr>\n",
       "\t<tr><td>0.22</td><td>0.22</td><td>0.90</td><td>0.30</td><td>0.90</td><td>High    </td></tr>\n",
       "\t<tr><td>0.14</td><td>0.14</td><td>0.70</td><td>0.50</td><td>0.30</td><td>Low     </td></tr>\n",
       "</tbody>\n",
       "</table>\n"
      ],
      "text/latex": [
       "A tibble: 6 × 6\n",
       "\\begin{tabular}{llllll}\n",
       " STG & SCG & STR & LPR & PEG & UNS\\\\\n",
       " <dbl> & <dbl> & <dbl> & <dbl> & <dbl> & <chr>\\\\\n",
       "\\hline\n",
       "\t 0.00 & 0.10 & 0.50 & 0.26 & 0.05 & Very Low\\\\\n",
       "\t 0.05 & 0.05 & 0.55 & 0.60 & 0.14 & Low     \\\\\n",
       "\t 0.08 & 0.18 & 0.63 & 0.60 & 0.85 & High    \\\\\n",
       "\t 0.20 & 0.20 & 0.68 & 0.67 & 0.85 & High    \\\\\n",
       "\t 0.22 & 0.22 & 0.90 & 0.30 & 0.90 & High    \\\\\n",
       "\t 0.14 & 0.14 & 0.70 & 0.50 & 0.30 & Low     \\\\\n",
       "\\end{tabular}\n"
      ],
      "text/markdown": [
       "\n",
       "A tibble: 6 × 6\n",
       "\n",
       "| STG &lt;dbl&gt; | SCG &lt;dbl&gt; | STR &lt;dbl&gt; | LPR &lt;dbl&gt; | PEG &lt;dbl&gt; | UNS &lt;chr&gt; |\n",
       "|---|---|---|---|---|---|\n",
       "| 0.00 | 0.10 | 0.50 | 0.26 | 0.05 | Very Low |\n",
       "| 0.05 | 0.05 | 0.55 | 0.60 | 0.14 | Low      |\n",
       "| 0.08 | 0.18 | 0.63 | 0.60 | 0.85 | High     |\n",
       "| 0.20 | 0.20 | 0.68 | 0.67 | 0.85 | High     |\n",
       "| 0.22 | 0.22 | 0.90 | 0.30 | 0.90 | High     |\n",
       "| 0.14 | 0.14 | 0.70 | 0.50 | 0.30 | Low      |\n",
       "\n"
      ],
      "text/plain": [
       "  STG  SCG  STR  LPR  PEG  UNS     \n",
       "1 0.00 0.10 0.50 0.26 0.05 Very Low\n",
       "2 0.05 0.05 0.55 0.60 0.14 Low     \n",
       "3 0.08 0.18 0.63 0.60 0.85 High    \n",
       "4 0.20 0.20 0.68 0.67 0.85 High    \n",
       "5 0.22 0.22 0.90 0.30 0.90 High    \n",
       "6 0.14 0.14 0.70 0.50 0.30 Low     "
      ]
     },
     "metadata": {},
     "output_type": "display_data"
    }
   ],
   "source": [
    "url <- \"https://archive.ics.uci.edu/ml/machine-learning-databases/00257/Data_User_Modeling_Dataset_Hamdi%20Tolga%20KAHRAMAN.xls\"\n",
    "path <- \"user_knowledge.xls\"\n",
    "download.file(url, destfile = path)\n",
    "\n",
    "user_knowledge_training <- read_excel(path, range = \"Training_Data!A1:F259\") # training data\n",
    "user_knowledge_testing <- read_excel(path, range = \"Test_Data!A1:F146\") # testing data\n",
    "\n",
    "head(user_knowledge_training, 6)\n",
    "head(user_knowledge_testing, 6)"
   ]
  },
  {
   "cell_type": "markdown",
   "metadata": {},
   "source": [
    "Remarks: The data is already tidy."
   ]
  },
  {
   "cell_type": "markdown",
   "metadata": {},
   "source": [
    "#### *Wrangling data*"
   ]
  },
  {
   "cell_type": "code",
   "execution_count": 3,
   "metadata": {},
   "outputs": [
    {
     "data": {
      "text/html": [
       "<table>\n",
       "<caption>A tibble: 258 × 3</caption>\n",
       "<thead>\n",
       "\t<tr><th scope=col>STG</th><th scope=col>STR</th><th scope=col>LG</th></tr>\n",
       "\t<tr><th scope=col>&lt;dbl&gt;</th><th scope=col>&lt;dbl&gt;</th><th scope=col>&lt;fct&gt;</th></tr>\n",
       "</thead>\n",
       "<tbody>\n",
       "\t<tr><td>0.00</td><td>0.00</td><td>Not_A</td></tr>\n",
       "\t<tr><td>0.08</td><td>0.10</td><td>A    </td></tr>\n",
       "\t<tr><td>0.06</td><td>0.05</td><td>Not_A</td></tr>\n",
       "\t<tr><td>⋮</td><td>⋮</td><td>⋮</td></tr>\n",
       "\t<tr><td>0.54</td><td>0.71</td><td>Not_A</td></tr>\n",
       "\t<tr><td>0.50</td><td>0.81</td><td>Not_A</td></tr>\n",
       "\t<tr><td>0.66</td><td>0.76</td><td>Not_A</td></tr>\n",
       "</tbody>\n",
       "</table>\n"
      ],
      "text/latex": [
       "A tibble: 258 × 3\n",
       "\\begin{tabular}{lll}\n",
       " STG & STR & LG\\\\\n",
       " <dbl> & <dbl> & <fct>\\\\\n",
       "\\hline\n",
       "\t 0.00 & 0.00 & Not\\_A\\\\\n",
       "\t 0.08 & 0.10 & A    \\\\\n",
       "\t 0.06 & 0.05 & Not\\_A\\\\\n",
       "\t ⋮ & ⋮ & ⋮\\\\\n",
       "\t 0.54 & 0.71 & Not\\_A\\\\\n",
       "\t 0.50 & 0.81 & Not\\_A\\\\\n",
       "\t 0.66 & 0.76 & Not\\_A\\\\\n",
       "\\end{tabular}\n"
      ],
      "text/markdown": [
       "\n",
       "A tibble: 258 × 3\n",
       "\n",
       "| STG &lt;dbl&gt; | STR &lt;dbl&gt; | LG &lt;fct&gt; |\n",
       "|---|---|---|\n",
       "| 0.00 | 0.00 | Not_A |\n",
       "| 0.08 | 0.10 | A     |\n",
       "| 0.06 | 0.05 | Not_A |\n",
       "| ⋮ | ⋮ | ⋮ |\n",
       "| 0.54 | 0.71 | Not_A |\n",
       "| 0.50 | 0.81 | Not_A |\n",
       "| 0.66 | 0.76 | Not_A |\n",
       "\n"
      ],
      "text/plain": [
       "    STG  STR  LG   \n",
       "1   0.00 0.00 Not_A\n",
       "2   0.08 0.10 A    \n",
       "3   0.06 0.05 Not_A\n",
       "⋮   ⋮    ⋮    ⋮    \n",
       "256 0.54 0.71 Not_A\n",
       "257 0.50 0.81 Not_A\n",
       "258 0.66 0.76 Not_A"
      ]
     },
     "metadata": {},
     "output_type": "display_data"
    },
    {
     "data": {
      "text/html": [
       "<table>\n",
       "<caption>A tibble: 258 × 6</caption>\n",
       "<thead>\n",
       "\t<tr><th scope=col>STG</th><th scope=col>SCG</th><th scope=col>STR</th><th scope=col>LPR</th><th scope=col>PEG</th><th scope=col>UNS</th></tr>\n",
       "\t<tr><th scope=col>&lt;dbl&gt;</th><th scope=col>&lt;dbl&gt;</th><th scope=col>&lt;dbl&gt;</th><th scope=col>&lt;dbl&gt;</th><th scope=col>&lt;dbl&gt;</th><th scope=col>&lt;chr&gt;</th></tr>\n",
       "</thead>\n",
       "<tbody>\n",
       "\t<tr><td>0.00</td><td>0.00</td><td>0.00</td><td>0.00</td><td>0.00</td><td>very_low</td></tr>\n",
       "\t<tr><td>0.08</td><td>0.08</td><td>0.10</td><td>0.24</td><td>0.90</td><td>High    </td></tr>\n",
       "\t<tr><td>0.06</td><td>0.06</td><td>0.05</td><td>0.25</td><td>0.33</td><td>Low     </td></tr>\n",
       "\t<tr><td>⋮</td><td>⋮</td><td>⋮</td><td>⋮</td><td>⋮</td><td>⋮</td></tr>\n",
       "\t<tr><td>0.54</td><td>0.82</td><td>0.71</td><td>0.29</td><td>0.77</td><td>High  </td></tr>\n",
       "\t<tr><td>0.50</td><td>0.75</td><td>0.81</td><td>0.61</td><td>0.26</td><td>Middle</td></tr>\n",
       "\t<tr><td>0.66</td><td>0.90</td><td>0.76</td><td>0.87</td><td>0.74</td><td>High  </td></tr>\n",
       "</tbody>\n",
       "</table>\n"
      ],
      "text/latex": [
       "A tibble: 258 × 6\n",
       "\\begin{tabular}{llllll}\n",
       " STG & SCG & STR & LPR & PEG & UNS\\\\\n",
       " <dbl> & <dbl> & <dbl> & <dbl> & <dbl> & <chr>\\\\\n",
       "\\hline\n",
       "\t 0.00 & 0.00 & 0.00 & 0.00 & 0.00 & very\\_low\\\\\n",
       "\t 0.08 & 0.08 & 0.10 & 0.24 & 0.90 & High    \\\\\n",
       "\t 0.06 & 0.06 & 0.05 & 0.25 & 0.33 & Low     \\\\\n",
       "\t ⋮ & ⋮ & ⋮ & ⋮ & ⋮ & ⋮\\\\\n",
       "\t 0.54 & 0.82 & 0.71 & 0.29 & 0.77 & High  \\\\\n",
       "\t 0.50 & 0.75 & 0.81 & 0.61 & 0.26 & Middle\\\\\n",
       "\t 0.66 & 0.90 & 0.76 & 0.87 & 0.74 & High  \\\\\n",
       "\\end{tabular}\n"
      ],
      "text/markdown": [
       "\n",
       "A tibble: 258 × 6\n",
       "\n",
       "| STG &lt;dbl&gt; | SCG &lt;dbl&gt; | STR &lt;dbl&gt; | LPR &lt;dbl&gt; | PEG &lt;dbl&gt; | UNS &lt;chr&gt; |\n",
       "|---|---|---|---|---|---|\n",
       "| 0.00 | 0.00 | 0.00 | 0.00 | 0.00 | very_low |\n",
       "| 0.08 | 0.08 | 0.10 | 0.24 | 0.90 | High     |\n",
       "| 0.06 | 0.06 | 0.05 | 0.25 | 0.33 | Low      |\n",
       "| ⋮ | ⋮ | ⋮ | ⋮ | ⋮ | ⋮ |\n",
       "| 0.54 | 0.82 | 0.71 | 0.29 | 0.77 | High   |\n",
       "| 0.50 | 0.75 | 0.81 | 0.61 | 0.26 | Middle |\n",
       "| 0.66 | 0.90 | 0.76 | 0.87 | 0.74 | High   |\n",
       "\n"
      ],
      "text/plain": [
       "    STG  SCG  STR  LPR  PEG  UNS     \n",
       "1   0.00 0.00 0.00 0.00 0.00 very_low\n",
       "2   0.08 0.08 0.10 0.24 0.90 High    \n",
       "3   0.06 0.06 0.05 0.25 0.33 Low     \n",
       "⋮   ⋮    ⋮    ⋮    ⋮    ⋮    ⋮       \n",
       "256 0.54 0.82 0.71 0.29 0.77 High    \n",
       "257 0.50 0.75 0.81 0.61 0.26 Middle  \n",
       "258 0.66 0.90 0.76 0.87 0.74 High    "
      ]
     },
     "metadata": {},
     "output_type": "display_data"
    },
    {
     "data": {
      "text/html": [
       "<table>\n",
       "<caption>A tibble: 145 × 3</caption>\n",
       "<thead>\n",
       "\t<tr><th scope=col>STG</th><th scope=col>STR</th><th scope=col>LG</th></tr>\n",
       "\t<tr><th scope=col>&lt;dbl&gt;</th><th scope=col>&lt;dbl&gt;</th><th scope=col>&lt;fct&gt;</th></tr>\n",
       "</thead>\n",
       "<tbody>\n",
       "\t<tr><td>0.00</td><td>0.50</td><td>Not_A</td></tr>\n",
       "\t<tr><td>0.05</td><td>0.55</td><td>Not_A</td></tr>\n",
       "\t<tr><td>0.08</td><td>0.63</td><td>A    </td></tr>\n",
       "\t<tr><td>⋮</td><td>⋮</td><td>⋮</td></tr>\n",
       "\t<tr><td>0.56</td><td>0.77</td><td>Not_A</td></tr>\n",
       "\t<tr><td>0.66</td><td>0.81</td><td>Not_A</td></tr>\n",
       "\t<tr><td>0.68</td><td>0.79</td><td>Not_A</td></tr>\n",
       "</tbody>\n",
       "</table>\n"
      ],
      "text/latex": [
       "A tibble: 145 × 3\n",
       "\\begin{tabular}{lll}\n",
       " STG & STR & LG\\\\\n",
       " <dbl> & <dbl> & <fct>\\\\\n",
       "\\hline\n",
       "\t 0.00 & 0.50 & Not\\_A\\\\\n",
       "\t 0.05 & 0.55 & Not\\_A\\\\\n",
       "\t 0.08 & 0.63 & A    \\\\\n",
       "\t ⋮ & ⋮ & ⋮\\\\\n",
       "\t 0.56 & 0.77 & Not\\_A\\\\\n",
       "\t 0.66 & 0.81 & Not\\_A\\\\\n",
       "\t 0.68 & 0.79 & Not\\_A\\\\\n",
       "\\end{tabular}\n"
      ],
      "text/markdown": [
       "\n",
       "A tibble: 145 × 3\n",
       "\n",
       "| STG &lt;dbl&gt; | STR &lt;dbl&gt; | LG &lt;fct&gt; |\n",
       "|---|---|---|\n",
       "| 0.00 | 0.50 | Not_A |\n",
       "| 0.05 | 0.55 | Not_A |\n",
       "| 0.08 | 0.63 | A     |\n",
       "| ⋮ | ⋮ | ⋮ |\n",
       "| 0.56 | 0.77 | Not_A |\n",
       "| 0.66 | 0.81 | Not_A |\n",
       "| 0.68 | 0.79 | Not_A |\n",
       "\n"
      ],
      "text/plain": [
       "    STG  STR  LG   \n",
       "1   0.00 0.50 Not_A\n",
       "2   0.05 0.55 Not_A\n",
       "3   0.08 0.63 A    \n",
       "⋮   ⋮    ⋮    ⋮    \n",
       "143 0.56 0.77 Not_A\n",
       "144 0.66 0.81 Not_A\n",
       "145 0.68 0.79 Not_A"
      ]
     },
     "metadata": {},
     "output_type": "display_data"
    },
    {
     "data": {
      "text/html": [
       "<table>\n",
       "<caption>A tibble: 145 × 6</caption>\n",
       "<thead>\n",
       "\t<tr><th scope=col>STG</th><th scope=col>SCG</th><th scope=col>STR</th><th scope=col>LPR</th><th scope=col>PEG</th><th scope=col>UNS</th></tr>\n",
       "\t<tr><th scope=col>&lt;dbl&gt;</th><th scope=col>&lt;dbl&gt;</th><th scope=col>&lt;dbl&gt;</th><th scope=col>&lt;dbl&gt;</th><th scope=col>&lt;dbl&gt;</th><th scope=col>&lt;chr&gt;</th></tr>\n",
       "</thead>\n",
       "<tbody>\n",
       "\t<tr><td>0.00</td><td>0.10</td><td>0.50</td><td>0.26</td><td>0.05</td><td>Very Low</td></tr>\n",
       "\t<tr><td>0.05</td><td>0.05</td><td>0.55</td><td>0.60</td><td>0.14</td><td>Low     </td></tr>\n",
       "\t<tr><td>0.08</td><td>0.18</td><td>0.63</td><td>0.60</td><td>0.85</td><td>High    </td></tr>\n",
       "\t<tr><td>⋮</td><td>⋮</td><td>⋮</td><td>⋮</td><td>⋮</td><td>⋮</td></tr>\n",
       "\t<tr><td>0.56</td><td>0.60</td><td>0.77</td><td>0.13</td><td>0.32</td><td>Low   </td></tr>\n",
       "\t<tr><td>0.66</td><td>0.68</td><td>0.81</td><td>0.57</td><td>0.57</td><td>Middle</td></tr>\n",
       "\t<tr><td>0.68</td><td>0.64</td><td>0.79</td><td>0.97</td><td>0.24</td><td>Middle</td></tr>\n",
       "</tbody>\n",
       "</table>\n"
      ],
      "text/latex": [
       "A tibble: 145 × 6\n",
       "\\begin{tabular}{llllll}\n",
       " STG & SCG & STR & LPR & PEG & UNS\\\\\n",
       " <dbl> & <dbl> & <dbl> & <dbl> & <dbl> & <chr>\\\\\n",
       "\\hline\n",
       "\t 0.00 & 0.10 & 0.50 & 0.26 & 0.05 & Very Low\\\\\n",
       "\t 0.05 & 0.05 & 0.55 & 0.60 & 0.14 & Low     \\\\\n",
       "\t 0.08 & 0.18 & 0.63 & 0.60 & 0.85 & High    \\\\\n",
       "\t ⋮ & ⋮ & ⋮ & ⋮ & ⋮ & ⋮\\\\\n",
       "\t 0.56 & 0.60 & 0.77 & 0.13 & 0.32 & Low   \\\\\n",
       "\t 0.66 & 0.68 & 0.81 & 0.57 & 0.57 & Middle\\\\\n",
       "\t 0.68 & 0.64 & 0.79 & 0.97 & 0.24 & Middle\\\\\n",
       "\\end{tabular}\n"
      ],
      "text/markdown": [
       "\n",
       "A tibble: 145 × 6\n",
       "\n",
       "| STG &lt;dbl&gt; | SCG &lt;dbl&gt; | STR &lt;dbl&gt; | LPR &lt;dbl&gt; | PEG &lt;dbl&gt; | UNS &lt;chr&gt; |\n",
       "|---|---|---|---|---|---|\n",
       "| 0.00 | 0.10 | 0.50 | 0.26 | 0.05 | Very Low |\n",
       "| 0.05 | 0.05 | 0.55 | 0.60 | 0.14 | Low      |\n",
       "| 0.08 | 0.18 | 0.63 | 0.60 | 0.85 | High     |\n",
       "| ⋮ | ⋮ | ⋮ | ⋮ | ⋮ | ⋮ |\n",
       "| 0.56 | 0.60 | 0.77 | 0.13 | 0.32 | Low    |\n",
       "| 0.66 | 0.68 | 0.81 | 0.57 | 0.57 | Middle |\n",
       "| 0.68 | 0.64 | 0.79 | 0.97 | 0.24 | Middle |\n",
       "\n"
      ],
      "text/plain": [
       "    STG  SCG  STR  LPR  PEG  UNS     \n",
       "1   0.00 0.10 0.50 0.26 0.05 Very Low\n",
       "2   0.05 0.05 0.55 0.60 0.14 Low     \n",
       "3   0.08 0.18 0.63 0.60 0.85 High    \n",
       "⋮   ⋮    ⋮    ⋮    ⋮    ⋮    ⋮       \n",
       "143 0.56 0.60 0.77 0.13 0.32 Low     \n",
       "144 0.66 0.68 0.81 0.57 0.57 Middle  \n",
       "145 0.68 0.64 0.79 0.97 0.24 Middle  "
      ]
     },
     "metadata": {},
     "output_type": "display_data"
    }
   ],
   "source": [
    "user_knowledge_training_raw <- user_knowledge_training # backup\n",
    "user_knowledge_testing_raw <- user_knowledge_testing\n",
    "\n",
    "user_knowledge_training$LG <- user_knowledge_training$PEG %>% # converts variable for exam performance on goal object (PEG) to letter grade (LG)\n",
    "    cut(breaks = c(0,0.8,1),\n",
    "       right = FALSE) %>% \n",
    "    recode(\"[0,0.8)\" = \"Not_A\",\n",
    "          \"[0.8,1)\" = \"A\")\n",
    "\n",
    "user_knowledge_testing$LG <- user_knowledge_testing$PEG %>% # converts variable for exam performance on goal object (PEG) to letter grade (LG)\n",
    "    cut(breaks = c(0,0.8,1),\n",
    "       right = FALSE) %>% \n",
    "    recode(\"[0,0.8)\" = \"Not_A\",\n",
    "          \"[0.8,1)\" = \"A\")\n",
    "\n",
    "user_knowledge_training <- select(user_knowledge_training, STG, STR, LG) # only keeping variables to be used\n",
    "user_knowledge_testing <- select(user_knowledge_testing, STG, STR, LG)\n",
    "\n",
    "user_knowledge_training\n",
    "user_knowledge_training_raw\n",
    "user_knowledge_testing\n",
    "user_knowledge_testing_raw\n",
    "\n",
    "# user_knowledge_classification_mutation <- user_knowledge %>%\n",
    "#     arrange(PEG, desc()) %>%\n",
    "#     mutate(PEGA1 = ifelse(PEG %in% c(0.90,0.91,0.92,0.93,0.94,0.95,0.96,0.97,0.98,0.99,1), \"A+\", NA)) %>%\n",
    "#     mutate(PEGA2 = ifelse(PEG %in% c(0.85,0.86,0.87,0.88,0.89), \"A\", NA)) %>%\n",
    "#     mutate(PEGA3 = ifelse(PEG %in% c(0.84,0.83,0.82,0.81,0.80), \"A-\", NA)) %>%\n",
    "#     mutate(PEGB1 = ifelse(PEG %in% c(0.79,0.78,0.77,0.76), \"B+\", NA)) %>%\n",
    "#     mutate(PEGB2 = ifelse(PEG %in% c(0.75,0.74,0.73,0.72), \"B\", NA)) %>%\n",
    "#     mutate(PEGB3 = ifelse(PEG %in% c(0.71,0.70,0.69,0.68), \"B-\", NA)) %>%\n",
    "#     mutate(PEGC1 = ifelse(PEG %in% c(0.67,0.66,0.65,0.64), \"C+\", NA)) %>%\n",
    "#     mutate(PEGC2 = ifelse(PEG %in% c(0.63,0.62,0.61,0.6), \"C\", NA)) %>%\n",
    "#     mutate(PEGC3 = ifelse(PEG %in% c(0.59,0.58,0.57,0.56,0.55), \"C-\", NA)) %>%\n",
    "#     mutate(PEGD = ifelse(PEG %in% c(0.54,0.53,0.52,0.51), \"D\", NA)) %>%\n",
    "#     mutate(PEGF = ifelse(PEG %in% c(0,0.01,0.02,0.03,0.04,0.05,0.06,0.07,0.08,0.09,0.10,0.11,0.12,0.13,0.14,0.15,0.16,0.17,0.18,0.19,0.2,0.21,0.22,0.23,0.24,0.25,0.26,0.27,0.28,0.29,0.3,0.31,0.32,0.33,0.34,0.35,0.36,0.37,0.38,0.39,0.4,0.41,0.42,0.43,0.44,0.45,0.46,0.47,0.48,0.49), \"F\", NA)) %>%\n",
    "#     mutate(PEG = coalesce(PEGA1, PEGA2, PEGA3, PEGB1, PEGB2, PEGB3, PEGC1, PEGC3, PEGD, PEGF)) %>%\n",
    "#     select(STG, STR, PEG) %>%\n",
    "#     mutate(PEG = as_factor(PEG))\n",
    "\n",
    "\n",
    "# user_knowledge_classification_mutation\n",
    "# user_knowledge"
   ]
  },
  {
   "cell_type": "markdown",
   "metadata": {},
   "source": [
    "#### *Summary tables*"
   ]
  },
  {
   "cell_type": "code",
   "execution_count": 4,
   "metadata": {},
   "outputs": [
    {
     "data": {
      "text/plain": [
       "      STG              STR             LG     \n",
       " Min.   :0.0000   Min.   :0.0000   Not_A:227  \n",
       " 1st Qu.:0.2407   1st Qu.:0.2913   A    : 31  \n",
       " Median :0.3270   Median :0.4900              \n",
       " Mean   :0.3711   Mean   :0.4680              \n",
       " 3rd Qu.:0.4950   3rd Qu.:0.6900              \n",
       " Max.   :0.9900   Max.   :0.9500              "
      ]
     },
     "metadata": {},
     "output_type": "display_data"
    },
    {
     "data": {
      "text/html": [
       "<table>\n",
       "<caption>A tibble: 3 × 2</caption>\n",
       "<thead>\n",
       "\t<tr><th scope=col>variable</th><th scope=col>description</th></tr>\n",
       "\t<tr><th scope=col>&lt;chr&gt;</th><th scope=col>&lt;chr&gt;</th></tr>\n",
       "</thead>\n",
       "<tbody>\n",
       "\t<tr><td>STG</td><td>The degree of study time for goal object materials (Electrical DC Machines)   </td></tr>\n",
       "\t<tr><td>STR</td><td>The degree of study time of user for prerequisites to goal object             </td></tr>\n",
       "\t<tr><td>LG </td><td>The letter grade corresponding to the exam performance of user for goal object</td></tr>\n",
       "</tbody>\n",
       "</table>\n"
      ],
      "text/latex": [
       "A tibble: 3 × 2\n",
       "\\begin{tabular}{ll}\n",
       " variable & description\\\\\n",
       " <chr> & <chr>\\\\\n",
       "\\hline\n",
       "\t STG & The degree of study time for goal object materials (Electrical DC Machines)   \\\\\n",
       "\t STR & The degree of study time of user for prerequisites to goal object             \\\\\n",
       "\t LG  & The letter grade corresponding to the exam performance of user for goal object\\\\\n",
       "\\end{tabular}\n"
      ],
      "text/markdown": [
       "\n",
       "A tibble: 3 × 2\n",
       "\n",
       "| variable &lt;chr&gt; | description &lt;chr&gt; |\n",
       "|---|---|\n",
       "| STG | The degree of study time for goal object materials (Electrical DC Machines)    |\n",
       "| STR | The degree of study time of user for prerequisites to goal object              |\n",
       "| LG  | The letter grade corresponding to the exam performance of user for goal object |\n",
       "\n"
      ],
      "text/plain": [
       "  variable\n",
       "1 STG     \n",
       "2 STR     \n",
       "3 LG      \n",
       "  description                                                                   \n",
       "1 The degree of study time for goal object materials (Electrical DC Machines)   \n",
       "2 The degree of study time of user for prerequisites to goal object             \n",
       "3 The letter grade corresponding to the exam performance of user for goal object"
      ]
     },
     "metadata": {},
     "output_type": "display_data"
    },
    {
     "data": {
      "text/html": [
       "<table>\n",
       "<caption>A tibble: 1 × 2</caption>\n",
       "<thead>\n",
       "\t<tr><th scope=col>observations</th><th scope=col>number of NA values</th></tr>\n",
       "\t<tr><th scope=col>&lt;int&gt;</th><th scope=col>&lt;int&gt;</th></tr>\n",
       "</thead>\n",
       "<tbody>\n",
       "\t<tr><td>258</td><td>0</td></tr>\n",
       "</tbody>\n",
       "</table>\n"
      ],
      "text/latex": [
       "A tibble: 1 × 2\n",
       "\\begin{tabular}{ll}\n",
       " observations & number of NA values\\\\\n",
       " <int> & <int>\\\\\n",
       "\\hline\n",
       "\t 258 & 0\\\\\n",
       "\\end{tabular}\n"
      ],
      "text/markdown": [
       "\n",
       "A tibble: 1 × 2\n",
       "\n",
       "| observations &lt;int&gt; | number of NA values &lt;int&gt; |\n",
       "|---|---|\n",
       "| 258 | 0 |\n",
       "\n"
      ],
      "text/plain": [
       "  observations number of NA values\n",
       "1 258          0                  "
      ]
     },
     "metadata": {},
     "output_type": "display_data"
    }
   ],
   "source": [
    "summary_table <- tibble(\"observations\" = nrow(user_knowledge_training), \"number of NA values\" = sum(is.na(user_knowledge_training)))\n",
    "\n",
    "var_desc <- tibble(variable = c(\"STG\", \"STR\", \"LG\"),\n",
    "                   description = c(\"The degree of study time for goal object materials (Electrical DC Machines)\",\n",
    "                                   \"The degree of study time of user for prerequisites to goal object\",\n",
    "                                   \"The letter grade corresponding to the exam performance of user for goal object\"))\n",
    "\n",
    "# var_desc_raw <- tibble(variable = c(\"STG\", \"SCG\", \"STR\", \"LPR\", \"PEG\", \"UNS\"), # BACKUP\n",
    "#                    description = c(\"The degree of study time for goal object materials (Electrical DC Machines)\",\n",
    "#                                    \"The degree of repetition number of user for goal object materials\",\n",
    "#                                    \"The degree of study time of user for prerequisites to goal object\",\n",
    "#                                    \"The exam performance of user for prerequisites to goal object\",\n",
    "#                                    \"The exam performance of user for goal objects\",\n",
    "#                                    \"Knowledge level/learning status of user\"))\n",
    "\n",
    "summary(user_knowledge_training, maxsum = 11)\n",
    "\n",
    "var_desc\n",
    "\n",
    "summary_table"
   ]
  },
  {
   "cell_type": "markdown",
   "metadata": {},
   "source": [
    "#### *Visualization*"
   ]
  },
  {
   "cell_type": "code",
   "execution_count": 7,
   "metadata": {},
   "outputs": [
    {
     "data": {
      "image/png": "[encoded data removed]",
      "text/plain": [
       "plot without title"
      ]
     },
     "metadata": {
      "image/png": {
       "height": 420,
       "width": 420
      }
     },
     "output_type": "display_data"
    }
   ],
   "source": [
    "user_knowledge_plot_goal <- ggplot(user_knowledge_training, aes(x = STG, y = STR)) +\n",
    "    geom_point(aes(color = LG)) +\n",
    "    labs(x = \"Study Time For Goal Subject\", y = \"Study Time for Pre-Requisite\", colour = \"letter grade\", title = \"Study Time (Goal and Pre-Requisite) vs. Letter Grade\") +\n",
    "    theme(text = element_text(size = 14))\n",
    "\n",
    "user_knowledge_plot_goal <- user_knowledge_plot_goal\n",
    "\n",
    "user_knowledge_plot_goal"
   ]
  },
  {
   "cell_type": "markdown",
   "metadata": {},
   "source": [
    "This scatter diagram shows the goal study time in x-axis and prerequisite study time in y-axis. The grade for each single record was distinguished by the color that had a description on the right side. \n"
   ]
  },
  {
   "cell_type": "markdown",
   "metadata": {},
   "source": [
    "## Methods\n",
    "The K-nearest neighbor classification algorithm will be used to predict the letter grade of the student. First, the numerical variable of exam performance for goal objects (PEG) will be mutated to a categorical variable of letter grades (LG) based on the UBC Vancouver Academic Calendar for 2022/23. Next, the classification model will be trained based on the variables of degree of study time on the goal object (STG) and degree of study time on prerequisites (STR), and letter grades. Finally, the letter grade of observations in the testing data will be predicted based on the variables STG and STR. The data will be visualized on a scatterplot with STG on the x-axis and STR on the y-axis, with each letter grade shown as a different color. All numerical values are standardized.\n"
   ]
  },
  {
   "cell_type": "markdown",
   "metadata": {},
   "source": [
    "**Data Analysis**\n",
    "\n",
    "64% data in training set, 36% in testing data. \n"
   ]
  },
  {
   "cell_type": "code",
   "execution_count": 28,
   "metadata": {},
   "outputs": [
    {
     "data": {
      "text/html": [
       "<table>\n",
       "<caption>A tibble: 258 × 3</caption>\n",
       "<thead>\n",
       "\t<tr><th scope=col>STG</th><th scope=col>STR</th><th scope=col>LG</th></tr>\n",
       "\t<tr><th scope=col>&lt;dbl&gt;</th><th scope=col>&lt;dbl&gt;</th><th scope=col>&lt;fct&gt;</th></tr>\n",
       "</thead>\n",
       "<tbody>\n",
       "\t<tr><td>0.00</td><td>0.00</td><td>Not_A</td></tr>\n",
       "\t<tr><td>0.08</td><td>0.10</td><td>A    </td></tr>\n",
       "\t<tr><td>0.06</td><td>0.05</td><td>Not_A</td></tr>\n",
       "\t<tr><td>⋮</td><td>⋮</td><td>⋮</td></tr>\n",
       "\t<tr><td>0.54</td><td>0.71</td><td>Not_A</td></tr>\n",
       "\t<tr><td>0.50</td><td>0.81</td><td>Not_A</td></tr>\n",
       "\t<tr><td>0.66</td><td>0.76</td><td>Not_A</td></tr>\n",
       "</tbody>\n",
       "</table>\n"
      ],
      "text/latex": [
       "A tibble: 258 × 3\n",
       "\\begin{tabular}{lll}\n",
       " STG & STR & LG\\\\\n",
       " <dbl> & <dbl> & <fct>\\\\\n",
       "\\hline\n",
       "\t 0.00 & 0.00 & Not\\_A\\\\\n",
       "\t 0.08 & 0.10 & A    \\\\\n",
       "\t 0.06 & 0.05 & Not\\_A\\\\\n",
       "\t ⋮ & ⋮ & ⋮\\\\\n",
       "\t 0.54 & 0.71 & Not\\_A\\\\\n",
       "\t 0.50 & 0.81 & Not\\_A\\\\\n",
       "\t 0.66 & 0.76 & Not\\_A\\\\\n",
       "\\end{tabular}\n"
      ],
      "text/markdown": [
       "\n",
       "A tibble: 258 × 3\n",
       "\n",
       "| STG &lt;dbl&gt; | STR &lt;dbl&gt; | LG &lt;fct&gt; |\n",
       "|---|---|---|\n",
       "| 0.00 | 0.00 | Not_A |\n",
       "| 0.08 | 0.10 | A     |\n",
       "| 0.06 | 0.05 | Not_A |\n",
       "| ⋮ | ⋮ | ⋮ |\n",
       "| 0.54 | 0.71 | Not_A |\n",
       "| 0.50 | 0.81 | Not_A |\n",
       "| 0.66 | 0.76 | Not_A |\n",
       "\n"
      ],
      "text/plain": [
       "    STG  STR  LG   \n",
       "1   0.00 0.00 Not_A\n",
       "2   0.08 0.10 A    \n",
       "3   0.06 0.05 Not_A\n",
       "⋮   ⋮    ⋮    ⋮    \n",
       "256 0.54 0.71 Not_A\n",
       "257 0.50 0.81 Not_A\n",
       "258 0.66 0.76 Not_A"
      ]
     },
     "metadata": {},
     "output_type": "display_data"
    },
    {
     "data": {
      "text/html": [
       "<table>\n",
       "<caption>A tibble: 10 × 7</caption>\n",
       "<thead>\n",
       "\t<tr><th scope=col>neighbors</th><th scope=col>.metric</th><th scope=col>.estimator</th><th scope=col>mean</th><th scope=col>n</th><th scope=col>std_err</th><th scope=col>.config</th></tr>\n",
       "\t<tr><th scope=col>&lt;int&gt;</th><th scope=col>&lt;chr&gt;</th><th scope=col>&lt;chr&gt;</th><th scope=col>&lt;dbl&gt;</th><th scope=col>&lt;int&gt;</th><th scope=col>&lt;dbl&gt;</th><th scope=col>&lt;chr&gt;</th></tr>\n",
       "</thead>\n",
       "<tbody>\n",
       "\t<tr><td> 9</td><td>accuracy</td><td>binary</td><td>0.8799197</td><td>5</td><td>0.003030640</td><td>Model09</td></tr>\n",
       "\t<tr><td> 8</td><td>accuracy</td><td>binary</td><td>0.8720766</td><td>5</td><td>0.007820335</td><td>Model08</td></tr>\n",
       "\t<tr><td>10</td><td>accuracy</td><td>binary</td><td>0.8720766</td><td>5</td><td>0.007820335</td><td>Model10</td></tr>\n",
       "\t<tr><td>⋮</td><td>⋮</td><td>⋮</td><td>⋮</td><td>⋮</td><td>⋮</td><td>⋮</td></tr>\n",
       "\t<tr><td>3</td><td>accuracy</td><td>binary</td><td>0.8174706</td><td>5</td><td>0.03110905</td><td>Model03</td></tr>\n",
       "\t<tr><td>1</td><td>accuracy</td><td>binary</td><td>0.7713082</td><td>5</td><td>0.02506869</td><td>Model01</td></tr>\n",
       "\t<tr><td>2</td><td>accuracy</td><td>binary</td><td>0.7669399</td><td>5</td><td>0.03832146</td><td>Model02</td></tr>\n",
       "</tbody>\n",
       "</table>\n"
      ],
      "text/latex": [
       "A tibble: 10 × 7\n",
       "\\begin{tabular}{lllllll}\n",
       " neighbors & .metric & .estimator & mean & n & std\\_err & .config\\\\\n",
       " <int> & <chr> & <chr> & <dbl> & <int> & <dbl> & <chr>\\\\\n",
       "\\hline\n",
       "\t  9 & accuracy & binary & 0.8799197 & 5 & 0.003030640 & Model09\\\\\n",
       "\t  8 & accuracy & binary & 0.8720766 & 5 & 0.007820335 & Model08\\\\\n",
       "\t 10 & accuracy & binary & 0.8720766 & 5 & 0.007820335 & Model10\\\\\n",
       "\t ⋮ & ⋮ & ⋮ & ⋮ & ⋮ & ⋮ & ⋮\\\\\n",
       "\t 3 & accuracy & binary & 0.8174706 & 5 & 0.03110905 & Model03\\\\\n",
       "\t 1 & accuracy & binary & 0.7713082 & 5 & 0.02506869 & Model01\\\\\n",
       "\t 2 & accuracy & binary & 0.7669399 & 5 & 0.03832146 & Model02\\\\\n",
       "\\end{tabular}\n"
      ],
      "text/markdown": [
       "\n",
       "A tibble: 10 × 7\n",
       "\n",
       "| neighbors &lt;int&gt; | .metric &lt;chr&gt; | .estimator &lt;chr&gt; | mean &lt;dbl&gt; | n &lt;int&gt; | std_err &lt;dbl&gt; | .config &lt;chr&gt; |\n",
       "|---|---|---|---|---|---|---|\n",
       "|  9 | accuracy | binary | 0.8799197 | 5 | 0.003030640 | Model09 |\n",
       "|  8 | accuracy | binary | 0.8720766 | 5 | 0.007820335 | Model08 |\n",
       "| 10 | accuracy | binary | 0.8720766 | 5 | 0.007820335 | Model10 |\n",
       "| ⋮ | ⋮ | ⋮ | ⋮ | ⋮ | ⋮ | ⋮ |\n",
       "| 3 | accuracy | binary | 0.8174706 | 5 | 0.03110905 | Model03 |\n",
       "| 1 | accuracy | binary | 0.7713082 | 5 | 0.02506869 | Model01 |\n",
       "| 2 | accuracy | binary | 0.7669399 | 5 | 0.03832146 | Model02 |\n",
       "\n"
      ],
      "text/plain": [
       "   neighbors .metric  .estimator mean      n std_err     .config\n",
       "1   9        accuracy binary     0.8799197 5 0.003030640 Model09\n",
       "2   8        accuracy binary     0.8720766 5 0.007820335 Model08\n",
       "3  10        accuracy binary     0.8720766 5 0.007820335 Model10\n",
       "⋮  ⋮         ⋮        ⋮          ⋮         ⋮ ⋮           ⋮      \n",
       "8  3         accuracy binary     0.8174706 5 0.03110905  Model03\n",
       "9  1         accuracy binary     0.7713082 5 0.02506869  Model01\n",
       "10 2         accuracy binary     0.7669399 5 0.03832146  Model02"
      ]
     },
     "metadata": {},
     "output_type": "display_data"
    },
    {
     "data": {
      "text/html": [
       "<table>\n",
       "<caption>A tibble: 10 × 7</caption>\n",
       "<thead>\n",
       "\t<tr><th scope=col>neighbors</th><th scope=col>.metric</th><th scope=col>.estimator</th><th scope=col>mean</th><th scope=col>n</th><th scope=col>std_err</th><th scope=col>.config</th></tr>\n",
       "\t<tr><th scope=col>&lt;int&gt;</th><th scope=col>&lt;chr&gt;</th><th scope=col>&lt;chr&gt;</th><th scope=col>&lt;dbl&gt;</th><th scope=col>&lt;int&gt;</th><th scope=col>&lt;dbl&gt;</th><th scope=col>&lt;chr&gt;</th></tr>\n",
       "</thead>\n",
       "<tbody>\n",
       "\t<tr><td>7</td><td>accuracy</td><td>binary</td><td>0.8799197</td><td>5</td><td>0.00303064</td><td>Model07</td></tr>\n",
       "\t<tr><td>8</td><td>accuracy</td><td>binary</td><td>0.8799197</td><td>5</td><td>0.00303064</td><td>Model08</td></tr>\n",
       "\t<tr><td>9</td><td>accuracy</td><td>binary</td><td>0.8799197</td><td>5</td><td>0.00303064</td><td>Model09</td></tr>\n",
       "\t<tr><td>⋮</td><td>⋮</td><td>⋮</td><td>⋮</td><td>⋮</td><td>⋮</td><td>⋮</td></tr>\n",
       "\t<tr><td>3</td><td>accuracy</td><td>binary</td><td>0.8487706</td><td>5</td><td>0.01157177</td><td>Model03</td></tr>\n",
       "\t<tr><td>2</td><td>accuracy</td><td>binary</td><td>0.7559179</td><td>5</td><td>0.01093021</td><td>Model02</td></tr>\n",
       "\t<tr><td>1</td><td>accuracy</td><td>binary</td><td>0.7479268</td><td>5</td><td>0.01893522</td><td>Model01</td></tr>\n",
       "</tbody>\n",
       "</table>\n"
      ],
      "text/latex": [
       "A tibble: 10 × 7\n",
       "\\begin{tabular}{lllllll}\n",
       " neighbors & .metric & .estimator & mean & n & std\\_err & .config\\\\\n",
       " <int> & <chr> & <chr> & <dbl> & <int> & <dbl> & <chr>\\\\\n",
       "\\hline\n",
       "\t 7 & accuracy & binary & 0.8799197 & 5 & 0.00303064 & Model07\\\\\n",
       "\t 8 & accuracy & binary & 0.8799197 & 5 & 0.00303064 & Model08\\\\\n",
       "\t 9 & accuracy & binary & 0.8799197 & 5 & 0.00303064 & Model09\\\\\n",
       "\t ⋮ & ⋮ & ⋮ & ⋮ & ⋮ & ⋮ & ⋮\\\\\n",
       "\t 3 & accuracy & binary & 0.8487706 & 5 & 0.01157177 & Model03\\\\\n",
       "\t 2 & accuracy & binary & 0.7559179 & 5 & 0.01093021 & Model02\\\\\n",
       "\t 1 & accuracy & binary & 0.7479268 & 5 & 0.01893522 & Model01\\\\\n",
       "\\end{tabular}\n"
      ],
      "text/markdown": [
       "\n",
       "A tibble: 10 × 7\n",
       "\n",
       "| neighbors &lt;int&gt; | .metric &lt;chr&gt; | .estimator &lt;chr&gt; | mean &lt;dbl&gt; | n &lt;int&gt; | std_err &lt;dbl&gt; | .config &lt;chr&gt; |\n",
       "|---|---|---|---|---|---|---|\n",
       "| 7 | accuracy | binary | 0.8799197 | 5 | 0.00303064 | Model07 |\n",
       "| 8 | accuracy | binary | 0.8799197 | 5 | 0.00303064 | Model08 |\n",
       "| 9 | accuracy | binary | 0.8799197 | 5 | 0.00303064 | Model09 |\n",
       "| ⋮ | ⋮ | ⋮ | ⋮ | ⋮ | ⋮ | ⋮ |\n",
       "| 3 | accuracy | binary | 0.8487706 | 5 | 0.01157177 | Model03 |\n",
       "| 2 | accuracy | binary | 0.7559179 | 5 | 0.01093021 | Model02 |\n",
       "| 1 | accuracy | binary | 0.7479268 | 5 | 0.01893522 | Model01 |\n",
       "\n"
      ],
      "text/plain": [
       "   neighbors .metric  .estimator mean      n std_err    .config\n",
       "1  7         accuracy binary     0.8799197 5 0.00303064 Model07\n",
       "2  8         accuracy binary     0.8799197 5 0.00303064 Model08\n",
       "3  9         accuracy binary     0.8799197 5 0.00303064 Model09\n",
       "⋮  ⋮         ⋮        ⋮          ⋮         ⋮ ⋮          ⋮      \n",
       "8  3         accuracy binary     0.8487706 5 0.01157177 Model03\n",
       "9  2         accuracy binary     0.7559179 5 0.01093021 Model02\n",
       "10 1         accuracy binary     0.7479268 5 0.01893522 Model01"
      ]
     },
     "metadata": {},
     "output_type": "display_data"
    },
    {
     "data": {
      "image/png": "[encoded data removed]",
      "text/plain": [
       "plot without title"
      ]
     },
     "metadata": {
      "image/png": {
       "height": 420,
       "width": 420
      }
     },
     "output_type": "display_data"
    },
    {
     "data": {
      "image/png": "[encoded data removed]",
      "text/plain": [
       "plot without title"
      ]
     },
     "metadata": {
      "image/png": {
       "height": 420,
       "width": 420
      }
     },
     "output_type": "display_data"
    }
   ],
   "source": [
    "set.seed(2022)\n",
    "\n",
    "user_knowledge_training\n",
    "\n",
    "k_vals <- tibble(neighbors = seq(from = 1, to = 10))\n",
    "\n",
    "goal_object_recipe <- recipe(LG ~ STG, data = user_knowledge_training) %>%\n",
    "    step_scale(all_predictors()) %>%\n",
    "    step_center(all_predictors())\n",
    "\n",
    "goal_object_knn_spec <- nearest_neighbor(weight_func = \"rectangular\", neighbors = tune()) %>% \n",
    "    set_engine(\"kknn\") %>%\n",
    "    set_mode(\"classification\")\n",
    "\n",
    "grades_vfold <- vfold_cv(user_knowledge_training, v = 5, strata = LG)\n",
    "\n",
    "goal_training_results <- workflow() %>%\n",
    "    add_recipe(goal_object_recipe) %>%\n",
    "    add_model(goal_object_knn_spec) %>%\n",
    "    tune_grid(resamples = grades_vfold, grid = k_vals) %>%\n",
    "    collect_metrics()\n",
    "\n",
    "goal_accuracies <- goal_training_results %>%\n",
    "    filter(.metric == \"accuracy\") %>%\n",
    "    arrange(desc(mean))\n",
    "\n",
    "prereq_object_recipe <- recipe(LG ~ STR, data = user_knowledge_training) %>%\n",
    "    step_scale(all_predictors()) %>%\n",
    "    step_center(all_predictors())\n",
    "\n",
    "prereq_object_knn_spec <- nearest_neighbor(weight_func = \"rectangular\", neighbors = tune()) %>% \n",
    "    set_engine(\"kknn\") %>%\n",
    "    set_mode(\"classification\")\n",
    "\n",
    "prereq_training_results <- workflow() %>%\n",
    "    add_recipe(prereq_object_recipe) %>%\n",
    "    add_model(prereq_object_knn_spec) %>%\n",
    "    tune_grid(resamples = grades_vfold, grid = k_vals) %>%\n",
    "    collect_metrics()\n",
    "\n",
    "prereq_accuracies <- prereq_training_results %>%\n",
    "    filter(.metric == \"accuracy\") %>%\n",
    "    arrange(desc(mean))\n",
    "\n",
    "goal_accuracy_vs_k <- ggplot(goal_accuracies, aes(x = neighbors, y = mean)) +\n",
    "    geom_point() +\n",
    "    geom_line() +\n",
    "    labs(x = \"Neighbors\", y = \"Accuracy Estimate\")\n",
    "\n",
    "prereq_accuracy_vs_k <- ggplot(prereq_accuracies, aes(x = neighbors, y = mean)) +\n",
    "    geom_point() +\n",
    "    geom_line() +\n",
    "    labs(x = \"Neighbors\", y = \"Accuracy Estimate\")\n",
    "\n",
    "goal_accuracies\n",
    "prereq_accuracies\n",
    "goal_accuracy_vs_k\n",
    "prereq_accuracy_vs_k"
   ]
  },
  {
   "cell_type": "markdown",
   "metadata": {},
   "source": [
    "## Expected Outcomes and Significance\n",
    "Based on the data that we have analyzed so far and our past experiences, we expect that the study time for pre-requisite subjects and the study time for the goal subject to be accurate predictors as to whether a student will score an A in their goal subject exams. If our findings are correct, then we can expect our findings to impact how students prioritize their study time and organize their schedules. Our findings could also influence how much emphasis students place on studying pre-requisite subjects or goal subjects. Based on our current study, future data analysts could utilize our findings and calculate the accuracy of predictions based on our predictor variables. Future data analysts could also analyze how other predictor variables could predict if a student achieves a letter grade of A, or how predictor variables predict letter grades other than A’s. \n"
   ]
  },
  {
   "cell_type": "markdown",
   "metadata": {},
   "source": [
    "## Bibliography\n",
    "Moskal, Patsy Carter, et al. “7 Things You Should Know about Adaptive Learning.” 7 Things You Should Know About Adaptive Learning, 4 Jan. 2017, https://library.educause.edu/resources/2017/1/7-things-you-should-know-about-adaptive-learning. \n",
    "\n",
    "“The University of British Columbia.” Introduction - Grading Practices - Campus-Wide Policies and Regulations - Vancouver Academic Calendar 2022/23 - UBC Student Services, https://www.calendar.ubc.ca/vancouver/index.cfm?tree=3%2C42%2C96%2C0. \n",
    "\n",
    "Kahraman, Hamdi Tolga, et al. “User Knowledge Modeling Data Set.” UCI Machine Learning Repository: User Knowledge Modeling Data Set, 26 June 2013, https://archive.ics.uci.edu/ml/datasets/User+Knowledge+Modeling#. "
   ]
  }
 ],
 "metadata": {
  "kernelspec": {
   "display_name": "R",
   "language": "R",
   "name": "ir"
  },
  "language_info": {
   "codemirror_mode": "r",
   "file_extension": ".r",
   "mimetype": "text/x-r-source",
   "name": "R",
   "pygments_lexer": "r",
   "version": "4.0.0"
  }
 },
 "nbformat": 4,
 "nbformat_minor": 4
}
